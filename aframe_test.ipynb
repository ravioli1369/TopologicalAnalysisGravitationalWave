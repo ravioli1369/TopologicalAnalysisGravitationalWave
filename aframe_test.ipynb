{
 "cells": [
  {
   "cell_type": "code",
   "execution_count": 1,
   "id": "f245c6fd",
   "metadata": {},
   "outputs": [],
   "source": [
    "from main import GWAnalyzer\n",
    "import torch"
   ]
  },
  {
   "cell_type": "code",
   "execution_count": null,
   "id": "d95d1ece",
   "metadata": {},
   "outputs": [],
   "source": [
    "batch_size: int = 384\n",
    "ifos: int = 2\n",
    "sample_rate: int = 2048\n",
    "kernel_length = 1.5\n",
    "X = torch.randn(batch_size, ifos, int(sample_rate * kernel_length), device=\"cuda\")"
   ]
  },
  {
   "cell_type": "code",
   "execution_count": 13,
   "id": "57eac49b",
   "metadata": {},
   "outputs": [
    {
     "name": "stdout",
     "output_type": "stream",
     "text": [
      "start processing spectrograms\n"
     ]
    },
    {
     "data": {
      "application/vnd.jupyter.widget-view+json": {
       "model_id": "80feb1bec0f3414dba0f5701e558ce56",
       "version_major": 2,
       "version_minor": 0
      },
      "text/plain": [
       "0it [00:00, ?it/s]"
      ]
     },
     "metadata": {},
     "output_type": "display_data"
    },
    {
     "name": "stdout",
     "output_type": "stream",
     "text": [
      "Processing chunk of shape: (384, 1417, 3)\n",
      "Chunk Elapsed Time: 2.7869298458099365\n",
      "start processing point cloud features\n"
     ]
    },
    {
     "data": {
      "application/vnd.jupyter.widget-view+json": {
       "model_id": "492b3c893d1844d9bdaab28503c4d9b7",
       "version_major": 2,
       "version_minor": 0
      },
      "text/plain": [
       "0it [00:00, ?it/s]"
      ]
     },
     "metadata": {},
     "output_type": "display_data"
    },
    {
     "name": "stdout",
     "output_type": "stream",
     "text": [
      "Processing chunk of shape: (384, 3072)\n",
      "Chunk Elapsed Time: 75.95832657814026\n",
      "Shape of the final features is (384, 36)\n",
      "start processing spectrograms\n"
     ]
    },
    {
     "data": {
      "application/vnd.jupyter.widget-view+json": {
       "model_id": "e762edf3b9ae4ef8b47a349fd2d5f4fe",
       "version_major": 2,
       "version_minor": 0
      },
      "text/plain": [
       "0it [00:00, ?it/s]"
      ]
     },
     "metadata": {},
     "output_type": "display_data"
    },
    {
     "name": "stdout",
     "output_type": "stream",
     "text": [
      "Processing chunk of shape: (384, 1424, 3)\n",
      "Chunk Elapsed Time: 2.9170761108398438\n",
      "start processing point cloud features\n"
     ]
    },
    {
     "data": {
      "application/vnd.jupyter.widget-view+json": {
       "model_id": "531183c1b19f4c2ba330bb8b0a47e94d",
       "version_major": 2,
       "version_minor": 0
      },
      "text/plain": [
       "0it [00:00, ?it/s]"
      ]
     },
     "metadata": {},
     "output_type": "display_data"
    },
    {
     "name": "stdout",
     "output_type": "stream",
     "text": [
      "Processing chunk of shape: (384, 3072)\n",
      "Chunk Elapsed Time: 76.56115245819092\n",
      "Shape of the final features is (384, 36)\n"
     ]
    }
   ],
   "source": [
    "detector1 = X[:, 0, :]\n",
    "detector2 = X[:, 1, :]\n",
    "gwana = GWAnalyzer(detector1.cpu().numpy())\n",
    "gwana.obtain_topological_features(True, True)\n",
    "features1 = torch.tensor(gwana.topological_features)\n",
    "gwana = GWAnalyzer(detector2.cpu().numpy())\n",
    "gwana.obtain_topological_features(True, True)\n",
    "features2 = torch.tensor(gwana.topological_features)"
   ]
  },
  {
   "cell_type": "code",
   "execution_count": 14,
   "id": "9a578b78",
   "metadata": {},
   "outputs": [
    {
     "data": {
      "text/plain": [
       "torch.Size([384, 2, 36])"
      ]
     },
     "execution_count": 14,
     "metadata": {},
     "output_type": "execute_result"
    }
   ],
   "source": [
    "features = torch.stack([features1, features2], dim=1)\n",
    "features.shape"
   ]
  },
  {
   "cell_type": "code",
   "execution_count": null,
   "id": "f2c1702c",
   "metadata": {},
   "outputs": [],
   "source": []
  }
 ],
 "metadata": {
  "kernelspec": {
   "display_name": "aframe",
   "language": "python",
   "name": "python3"
  },
  "language_info": {
   "codemirror_mode": {
    "name": "ipython",
    "version": 3
   },
   "file_extension": ".py",
   "mimetype": "text/x-python",
   "name": "python",
   "nbconvert_exporter": "python",
   "pygments_lexer": "ipython3",
   "version": "3.11.11"
  }
 },
 "nbformat": 4,
 "nbformat_minor": 5
}
